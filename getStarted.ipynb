{
 "cells": [
  {
   "cell_type": "code",
   "execution_count": 52,
   "metadata": {},
   "outputs": [
    {
     "name": "stdout",
     "output_type": "stream",
     "text": [
      "Hallo \n",
      " Welt\n"
     ]
    }
   ],
   "source": [
    "str = \"Hallo \\n Welt\"\n",
    "str1 = 'Hallo Welt'\n",
    "str2 = \"\"\"Hallo\n",
    "\n",
    " Welt\"\"\"\n",
    "str3 = '''Hallo\n",
    "\n",
    " Welt '''\n",
    "print(str)"
   ]
  },
  {
   "cell_type": "code",
   "execution_count": 42,
   "metadata": {},
   "outputs": [
    {
     "name": "stdout",
     "output_type": "stream",
     "text": [
      "3.14\n",
      "2.73\n"
     ]
    }
   ],
   "source": [
    "c= complex(3.14,2.73)\n",
    "print(c.real)\n",
    "print(c.imag)\n",
    "print(c.conjugate())"
   ]
  },
  {
   "cell_type": "code",
   "execution_count": 41,
   "metadata": {},
   "outputs": [
    {
     "name": "stdout",
     "output_type": "stream",
     "text": [
      "1\n",
      "0\n",
      "True\n",
      "False\n",
      "True\n",
      "True\n",
      "\n",
      "False\n",
      "True\n",
      "True\n",
      "False\n"
     ]
    }
   ],
   "source": [
    "print(int(True))\n",
    "print(int(False))\n",
    "print(bool(1))\n",
    "print(bool(0))\n",
    "print(bool(-10))\n",
    "print(bool(10))\n",
    "\n",
    "print()\n",
    "print(not True)\n",
    "print(not False)\n",
    "print(True or False)\n",
    "print(True and False)"
   ]
  },
  {
   "cell_type": "code",
   "execution_count": 39,
   "metadata": {},
   "outputs": [
    {
     "ename": "SyntaxError",
     "evalue": "invalid syntax. Perhaps you forgot a comma? (928524476.py, line 2)",
     "output_type": "error",
     "traceback": [
      "\u001b[0;36m  Cell \u001b[0;32mIn[39], line 2\u001b[0;36m\u001b[0m\n\u001b[0;31m    print(0.3 - (0.1 + 3)\u001b[0m\n\u001b[0m          ^\u001b[0m\n\u001b[0;31mSyntaxError\u001b[0m\u001b[0;31m:\u001b[0m invalid syntax. Perhaps you forgot a comma?\n"
     ]
    }
   ],
   "source": [
    "\n",
    "print(0.3 - (0.1 * 3 == 0))\n",
    "print(0.3 - (0.1 + 3)\n",
    "print(0.3 - (0.1 * 3)) > - 0.1 and 0.3 - (0.1 * 3 ) < 0.1)\n"
   ]
  },
  {
   "cell_type": "code",
   "execution_count": 30,
   "metadata": {},
   "outputs": [
    {
     "data": {
      "text/plain": [
       "sys.float_info(max=1.7976931348623157e+308, max_exp=1024, max_10_exp=308, min=2.2250738585072014e-308, min_exp=-1021, min_10_exp=-307, dig=15, mant_dig=53, epsilon=2.220446049250313e-16, radix=2, rounds=1)"
      ]
     },
     "execution_count": 30,
     "metadata": {},
     "output_type": "execute_result"
    }
   ],
   "source": [
    "import sys \n",
    "sys.float_info"
   ]
  },
  {
   "cell_type": "code",
   "execution_count": 29,
   "metadata": {},
   "outputs": [
    {
     "name": "stdout",
     "output_type": "stream",
     "text": [
      "22\n"
     ]
    }
   ],
   "source": [
    "t2= int(\"10110\", base=2)\n",
    "print(t2)"
   ]
  },
  {
   "cell_type": "code",
   "execution_count": 27,
   "metadata": {},
   "outputs": [
    {
     "name": "stdout",
     "output_type": "stream",
     "text": [
      "1\n",
      "1.75\n",
      "3,41kmh\n"
     ]
    }
   ],
   "source": [
    "t1 = int(1.75) \n",
    "print(t1) \n",
    "t1 = 1.75 \n",
    "print(t1)\n",
    "t1 = \"3,41\" +\"kmh\"\n",
    "print(t1)\n",
    "\n"
   ]
  },
  {
   "cell_type": "code",
   "execution_count": 21,
   "metadata": {},
   "outputs": [
    {
     "name": "stdout",
     "output_type": "stream",
     "text": [
      "126002319371488\n",
      "{4, 5}\n",
      "126002319371488\n",
      "126002296490688\n"
     ]
    }
   ],
   "source": [
    "myList = set() # Erstellen einer Liste \n",
    "print(id(myList))\n",
    "myList.add(3) # Wert 3 in die Liste eintragen\n",
    "myList.add(4) # Wert 4 in die Liste eintragen\n",
    "myList.add(5) # Wert 5 in die Liste eintragen\n",
    "myList.remove(3) # Wert 3 aus der Liste entfernen\n",
    "print(myList)\n",
    "print(id(myList))\n",
    "myList = set()\n",
    "print(id(myList))"
   ]
  },
  {
   "cell_type": "code",
   "execution_count": 22,
   "metadata": {},
   "outputs": [
    {
     "name": "stdout",
     "output_type": "stream",
     "text": [
      "42\n",
      "104327721233608\n",
      "43\n",
      "104327721233640\n"
     ]
    }
   ],
   "source": [
    "age = 42\n",
    "print(age) # Gibt den Inhalt des Speichers aus\n",
    "print(id(age)) # Gibt die Adresse des Speichers aus nicht den Inhalt\n",
    "\n",
    "age = 43\n",
    "print(age) \n",
    "print(id(age)) # Gibt die Adresse des Speichers aus nicht den Inhalt "
   ]
  },
  {
   "cell_type": "code",
   "execution_count": 12,
   "metadata": {},
   "outputs": [
    {
     "name": "stdout",
     "output_type": "stream",
     "text": [
      "62\n"
     ]
    }
   ],
   "source": [
    "age = 42\n",
    "age = age +10\n",
    "age += 10\n",
    "print(age) "
   ]
  },
  {
   "cell_type": "code",
   "execution_count": 9,
   "metadata": {},
   "outputs": [
    {
     "name": "stdout",
     "output_type": "stream",
     "text": [
      "5\n"
     ]
    }
   ],
   "source": [
    "myFirstInteger = 15\n",
    "mySecondInteger = 10\n",
    "e = myFirstInteger - mySecondInteger # zwei variablen subtrahiert und in die Variable e gespeichert\n",
    "print(e) "
   ]
  },
  {
   "cell_type": "code",
   "execution_count": 8,
   "metadata": {},
   "outputs": [
    {
     "name": "stdout",
     "output_type": "stream",
     "text": [
      "3\n",
      "5\n",
      "8\n",
      "2.3333333333333335\n",
      "3\n",
      "2\n",
      "27\n"
     ]
    }
   ],
   "source": [
    "print(1+2) # Addieren\n",
    "print(10-5) # Subtrahieren\n",
    "print(2*4) # Multiplizieren\n",
    "print(7/3) # Dividieren\n",
    "print(17//5) # Dividieren Ergebisist Ganzzahl\n",
    "print(17%5) # Teilen Ergebnis ist der Rest\n",
    "print(3**3) # Potenzieren\n"
   ]
  },
  {
   "cell_type": "code",
   "execution_count": null,
   "metadata": {},
   "outputs": [],
   "source": [
    "myFirstInteger = 30\n",
    "print(30)"
   ]
  }
 ],
 "metadata": {
  "kernelspec": {
   "display_name": "Python 3",
   "language": "python",
   "name": "python3"
  },
  "language_info": {
   "codemirror_mode": {
    "name": "ipython",
    "version": 3
   },
   "file_extension": ".py",
   "mimetype": "text/x-python",
   "name": "python",
   "nbconvert_exporter": "python",
   "pygments_lexer": "ipython3",
   "version": "3.12.1"
  }
 },
 "nbformat": 4,
 "nbformat_minor": 2
}
